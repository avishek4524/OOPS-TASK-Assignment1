{
 "cells": [
  {
   "cell_type": "code",
   "execution_count": 29,
   "id": "2400e4b2-f8a7-449f-9e8d-24f591b830a0",
   "metadata": {},
   "outputs": [
    {
     "data": {
      "text/plain": [
       "50"
      ]
     },
     "execution_count": 29,
     "metadata": {},
     "output_type": "execute_result"
    }
   ],
   "source": [
    "class vehicle:\n",
    "    def __init__(self,name_of_vehicle, max_speed,average_of_vehicle):\n",
    "        self.name_of_vehicle=name_of_vehicle\n",
    "        self.max_speed=max_speed\n",
    "        self.average_of_vehicle=average_of_vehicle\n",
    "    def vehicle_details(self):\n",
    "        return self.name_of_vehicle,self.max_speed,self.average_of_vehicle\n",
    "        \n",
    "#ve=vehicle(\"pulsure\",200,20)\n",
    "#ve.vehicle_details()\n",
    "\n",
    "class car(vehicle):\n",
    "    def seating_capacity(self,capacity):\n",
    "        self.capacity=capacity\n",
    "c=car(\"pulsure\",45,56)\n",
    "c.seating_capacity(50)\n",
    "c.name_of_vehicle\n",
    "c.capacity\n",
    "        \n",
    "    \n",
    "\n",
    "    "
   ]
  },
  {
   "cell_type": "code",
   "execution_count": null,
   "id": "2e961c6d-923d-4178-b77d-5eff77eac6ab",
   "metadata": {},
   "outputs": [],
   "source": [
    "Q3. What is multiple inheritance? Write a python code to demonstrate multiple inheritance."
   ]
  },
  {
   "cell_type": "code",
   "execution_count": null,
   "id": "3968bd17-6f73-4c74-8b9b-152bdddd805b",
   "metadata": {},
   "outputs": [],
   "source": [
    "A class can be derived from more than one superclass in Python. This is called multiple inheritance."
   ]
  },
  {
   "cell_type": "code",
   "execution_count": 35,
   "id": "9a374c90-0ee7-43a9-8dc5-bb1c0a4ef8e3",
   "metadata": {},
   "outputs": [
    {
     "data": {
      "text/plain": [
       "'test2'"
      ]
     },
     "execution_count": 35,
     "metadata": {},
     "output_type": "execute_result"
    }
   ],
   "source": [
    "class test1:\n",
    "    def test1(self):\n",
    "       return\"test1\"\n",
    "class test2(test1):\n",
    "    def test2(self):\n",
    "       return\"test2\"\n",
    "class test3(test2):\n",
    "    pass\n",
    "t3=test3()\n",
    "t3.test2()\n",
    "    \n"
   ]
  },
  {
   "cell_type": "code",
   "execution_count": null,
   "id": "7cba42c0-4902-4707-a9e1-0d62e2c09749",
   "metadata": {},
   "outputs": [],
   "source": [
    "What are getter and setter in python? Create a class and create a getter and a setter method in this\n",
    "class."
   ]
  },
  {
   "cell_type": "code",
   "execution_count": null,
   "id": "492ce939-5b22-4c80-9920-6757dcb1fc57",
   "metadata": {},
   "outputs": [],
   "source": [
    "For the purpose of data encapsulation, most object oriented languages use getters and setters method. This is because we want to hide the attributes of a object class from other classes so that no accidental modification of the data happens by methods in other classes.\n",
    "\n",
    "As the name suggests, getters are the methods which help access the private attributes or get the value of the private attributes and setters are the methods which help change or set the value of private attributes."
   ]
  },
  {
   "cell_type": "code",
   "execution_count": 38,
   "id": "59d15ac2-f549-448b-b7b0-ba463b5bf565",
   "metadata": {},
   "outputs": [
    {
     "ename": "IndentationError",
     "evalue": "unexpected indent (1412223501.py, line 3)",
     "output_type": "error",
     "traceback": [
      "\u001b[0;36m  Cell \u001b[0;32mIn[38], line 3\u001b[0;36m\u001b[0m\n\u001b[0;31m    self.__price=price\u001b[0m\n\u001b[0m    ^\u001b[0m\n\u001b[0;31mIndentationError\u001b[0m\u001b[0;31m:\u001b[0m unexpected indent\n"
     ]
    }
   ],
   "source": [
    "class Pwskill:\n",
    "    def__init__(self,price,name)\n",
    "          self.__price=price\n",
    "          self.__name=name\n",
    "    @property\n",
    "    def price_access(self)\n",
    "        return self.__price\n",
    "    @price_access.setter\n",
    "    \n",
    "        \n",
    "    "
   ]
  }
 ],
 "metadata": {
  "kernelspec": {
   "display_name": "Python 3 (ipykernel)",
   "language": "python",
   "name": "python3"
  },
  "language_info": {
   "codemirror_mode": {
    "name": "ipython",
    "version": 3
   },
   "file_extension": ".py",
   "mimetype": "text/x-python",
   "name": "python",
   "nbconvert_exporter": "python",
   "pygments_lexer": "ipython3",
   "version": "3.10.8"
  }
 },
 "nbformat": 4,
 "nbformat_minor": 5
}
